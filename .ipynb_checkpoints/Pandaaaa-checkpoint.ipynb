{
 "cells": [
  {
   "cell_type": "code",
   "execution_count": 35,
   "id": "a5bf148f",
   "metadata": {},
   "outputs": [
    {
     "name": "stdout",
     "output_type": "stream",
     "text": [
      "1.3.4\n"
     ]
    }
   ],
   "source": [
    "import pandas as pd\n",
    "\n",
    "# Print the Pandas version\n",
    "print(pd.__version__)"
   ]
  },
  {
   "cell_type": "code",
   "execution_count": 36,
   "id": "af17265f",
   "metadata": {},
   "outputs": [
    {
     "name": "stdout",
     "output_type": "stream",
     "text": [
      "Test Case 0: return the all information of your dataset : \n",
      "\n",
      "<bound method DataFrame.info of     emp_no     emp_name dept_name   Salary\n",
      "0        1         Adam        IT   1000.0\n",
      "1        1         Adam        IT   1000.0\n",
      "2        2        Peter       NaN   4000.0\n",
      "3        3  Christopher   Finance   1000.0\n",
      "4        4  Christopher   Finance   1000.0\n",
      "5        4         Alan     Sales      NaN\n",
      "6        5       Mayank        HR   4000.0\n",
      "7        6       Rakesh     Sales   4000.0\n",
      "8        7       Mathew   Finance   4000.0\n",
      "9        8      Bhaskar        IT  14000.0\n",
      "10       9         Tina        HR   2000.0>\n",
      "\n",
      "\n",
      "Test Case 1: Following are the column names in the source file : \n",
      "\n",
      "Index(['emp_no', 'emp_name', 'dept_name', 'Salary'], dtype='object')\n",
      "\n",
      "\n",
      "Test Case 2: Rows X colums in the source file \n",
      "\n",
      "(11, 4)\n",
      "\n",
      "\n",
      "Test Case 3: No. of rows under each columns \n",
      "\n",
      "emp_no       11\n",
      "emp_name     11\n",
      "dept_name    10\n",
      "Salary       10\n",
      "dtype: int64\n",
      "\n",
      "\n",
      "Test Case 4: Duplicate records in the source \n",
      "\n",
      "1\n",
      "\n",
      "\n",
      "Test Case 5: Duplicate records saved in the file below \n",
      "\n",
      "\n",
      "\n",
      "Test Case 6: Check if NULL value exist in dept_name column \n",
      "\n",
      "   emp_no emp_name dept_name  Salary\n",
      "2       2    Peter       NaN  4000.0\n",
      "\n",
      "\n",
      "Test Case 7: Unique value of emp_no column in the source \n",
      "\n",
      "[1 2 3 4 5 6 7 8 9]\n",
      "\n",
      "\n",
      "Test Case 8: Unique value of emp_name column in the source \n",
      "\n",
      "['Adam' 'Peter' 'Christopher' 'Alan' 'Mayank' 'Rakesh' 'Mathew' 'Bhaskar'\n",
      " 'Tina']\n",
      "\n",
      "\n",
      "Test Case 9: Unique value of dept_name column in the source \n",
      "\n",
      "['IT' nan 'Finance' 'Sales' 'HR']\n",
      "\n",
      "\n",
      "Test Case 10: Unique value of Salary column in the source \n",
      "\n",
      "[ 1000.  4000.    nan 14000.  2000.]\n",
      "\n",
      "\n",
      "Test Case 11: Sample ( top 5 ) records from source file \n",
      "\n",
      "   emp_no     emp_name dept_name  Salary\n",
      "0       1         Adam        IT  1000.0\n",
      "1       1         Adam        IT  1000.0\n",
      "2       2        Peter       NaN  4000.0\n",
      "3       3  Christopher   Finance  1000.0\n",
      "4       4  Christopher   Finance  1000.0\n",
      "\n",
      "\n",
      "Test Case 12: Sample ( bottom 5 ) records from source file \n",
      "\n",
      "    emp_no emp_name dept_name   Salary\n",
      "6        5   Mayank        HR   4000.0\n",
      "7        6   Rakesh     Sales   4000.0\n",
      "8        7   Mathew   Finance   4000.0\n",
      "9        8  Bhaskar        IT  14000.0\n",
      "10       9     Tina        HR   2000.0\n",
      "\n",
      "\n"
     ]
    }
   ],
   "source": [
    "source =pd.read_csv(\"Employee.csv\",sep=\",\")\n",
    "\n",
    "print(\"Test Case 0: return the all information of your dataset : \\n\") \n",
    "print(source.info) \n",
    "print(\"\\n\")\n",
    "\n",
    "print(\"Test Case 1: Following are the column names in the source file : \\n\") \n",
    "print(source.columns) \n",
    "print(\"\\n\")\n",
    "\n",
    "print(\"Test Case 2: Rows X colums in the source file \\n\")\n",
    "print(source.shape)\n",
    "print(\"\\n\")\n",
    "\n",
    "print(\"Test Case 3: No. of rows under each columns \\n\")\n",
    "print(source.count())\n",
    "print(\"\\n\")\n",
    "\n",
    "print(\"Test Case 4: Duplicate records in the source \\n\")\n",
    "print(source.duplicated().sum())\n",
    "print(\"\\n\")\n",
    "\n",
    "print(\"Test Case 5: Duplicate records saved in the file below \\n\") \n",
    "dupes = source[source.duplicated()].to_csv(\"duplicated.csv\") \n",
    "print(\"\\n\")\n",
    "\n",
    "print(\"Test Case 6: Check if NULL value exist in dept_name column \\n\") \n",
    "print(source[source['dept_name'].isnull()]) \n",
    "print(\"\\n\") \n",
    "\n",
    "print(\"Test Case 7: Unique value of emp_no column in the source \\n\") \n",
    "print(source['emp_no'].unique()) \n",
    "print(\"\\n\")\n",
    "\n",
    "print(\"Test Case 8: Unique value of emp_name column in the source \\n\") \n",
    "print (source [ 'emp_name' ].unique()) \n",
    "print(\"\\n\")\n",
    "\n",
    "print(\"Test Case 9: Unique value of dept_name column in the source \\n\") \n",
    "print (source [ 'dept_name' ].unique()) \n",
    "print(\"\\n\")\n",
    "\n",
    "print(\"Test Case 10: Unique value of Salary column in the source \\n\")\n",
    "print(source['Salary'].unique())\n",
    "print(\"\\n\")\n",
    "\n",
    "print (\"Test Case 11: Sample ( top 5 ) records from source file \\n\")\n",
    "print(source.head())\n",
    "print(\"\\n\")\n",
    "\n",
    "print(\"Test Case 12: Sample ( bottom 5 ) records from source file \\n\")\n",
    "print(source.tail())\n",
    "print(\"\\n\")\n"
   ]
  },
  {
   "cell_type": "code",
   "execution_count": 37,
   "id": "1b131267",
   "metadata": {},
   "outputs": [
    {
     "name": "stdout",
     "output_type": "stream",
     "text": [
      "   emp_no     emp_name dept_name  Salary\n",
      "0       1         Adam        IT  1000.0\n",
      "6       5       Mayank        HR  4000.0\n",
      "4       4  Christopher   Finance  1000.0\n",
      "   emp_no emp_name dept_name   Salary\n",
      "9       8  Bhaskar        IT  14000.0\n",
      "2       2    Peter       NaN   4000.0\n",
      "   emp_no emp_name dept_name   Salary\n",
      "2       2    Peter       NaN   4000.0\n",
      "6       5   Mayank        HR   4000.0\n",
      "7       6   Rakesh     Sales   4000.0\n",
      "8       7   Mathew   Finance   4000.0\n",
      "9       8  Bhaskar        IT  14000.0\n",
      "0            Adam\n",
      "1            Adam\n",
      "2           Peter\n",
      "3     Christopher\n",
      "4     Christopher\n",
      "5            Alan\n",
      "6          Mayank\n",
      "7          Rakesh\n",
      "8          Mathew\n",
      "9         Bhaskar\n",
      "10           Tina\n",
      "Name: emp_name, dtype: object\n",
      "       emp_name   Salary\n",
      "0          Adam   1000.0\n",
      "1          Adam   1000.0\n",
      "2         Peter   4000.0\n",
      "3   Christopher   1000.0\n",
      "4   Christopher   1000.0\n",
      "5          Alan      NaN\n",
      "6        Mayank   4000.0\n",
      "7        Rakesh   4000.0\n",
      "8        Mathew   4000.0\n",
      "9       Bhaskar  14000.0\n",
      "10         Tina   2000.0\n",
      "Test Case 13: Sorting emp_name in Ascending order \n",
      "\n",
      "    emp_no     emp_name dept_name   Salary\n",
      "0        1         Adam        IT   1000.0\n",
      "1        1         Adam        IT   1000.0\n",
      "5        4         Alan     Sales      NaN\n",
      "9        8      Bhaskar        IT  14000.0\n",
      "3        3  Christopher   Finance   1000.0\n",
      "4        4  Christopher   Finance   1000.0\n",
      "8        7       Mathew   Finance   4000.0\n",
      "6        5       Mayank        HR   4000.0\n",
      "2        2        Peter       NaN   4000.0\n",
      "7        6       Rakesh     Sales   4000.0\n",
      "10       9         Tina        HR   2000.0\n",
      "\n",
      "\n",
      "Test Case 14: Sorting emp_name in Descending order \n",
      "\n",
      "    emp_no     emp_name dept_name   Salary\n",
      "10       9         Tina        HR   2000.0\n",
      "7        6       Rakesh     Sales   4000.0\n",
      "2        2        Peter       NaN   4000.0\n",
      "6        5       Mayank        HR   4000.0\n",
      "8        7       Mathew   Finance   4000.0\n",
      "3        3  Christopher   Finance   1000.0\n",
      "4        4  Christopher   Finance   1000.0\n",
      "9        8      Bhaskar        IT  14000.0\n",
      "5        4         Alan     Sales      NaN\n",
      "0        1         Adam        IT   1000.0\n",
      "1        1         Adam        IT   1000.0\n",
      "\n",
      "\n",
      "Test Case 15: Sorting by Index in Descending order \n",
      "\n",
      "    emp_no     emp_name dept_name   Salary\n",
      "10       9         Tina        HR   2000.0\n",
      "9        8      Bhaskar        IT  14000.0\n",
      "8        7       Mathew   Finance   4000.0\n",
      "7        6       Rakesh     Sales   4000.0\n",
      "6        5       Mayank        HR   4000.0\n",
      "5        4         Alan     Sales      NaN\n",
      "4        4  Christopher   Finance   1000.0\n",
      "3        3  Christopher   Finance   1000.0\n",
      "2        2        Peter       NaN   4000.0\n",
      "1        1         Adam        IT   1000.0\n",
      "0        1         Adam        IT   1000.0\n",
      "\n",
      "\n",
      "Test Case 16: Reset the indexes to default \n",
      "\n",
      "    emp_no     emp_name dept_name   Salary\n",
      "0        1         Adam        IT   1000.0\n",
      "1        1         Adam        IT   1000.0\n",
      "2        2        Peter       NaN   4000.0\n",
      "3        3  Christopher   Finance   1000.0\n",
      "4        4  Christopher   Finance   1000.0\n",
      "5        4         Alan     Sales      NaN\n",
      "6        5       Mayank        HR   4000.0\n",
      "7        6       Rakesh     Sales   4000.0\n",
      "8        7       Mathew   Finance   4000.0\n",
      "9        8      Bhaskar        IT  14000.0\n",
      "10       9         Tina        HR   2000.0\n",
      "\n",
      "\n",
      "TEST COMPLETED____\n",
      "\n"
     ]
    }
   ],
   "source": [
    "\n",
    "\n",
    "\n",
    "# Randomly select n rows\n",
    "print(source.sample(3))\n",
    "\n",
    "# Select top 2 Highest Salary\n",
    "print(source.nlargest(2, 'Salary'))\n",
    "\n",
    "# Select the Salary > 2000\n",
    "print(source[source.Salary > 2000])\n",
    "\n",
    "# Select the FRUITS name\n",
    "print(source['emp_name'])\n",
    "\n",
    "# Select the FRUITS name and\n",
    "# their corresponding PRICE\n",
    "print(source[['emp_name', 'Salary']])\n",
    "\n",
    "\n",
    "# Sorting in Ascending order\n",
    "print(\"Test Case 13: Sorting emp_name in Ascending order \\n\")\n",
    "print(source.sort_values('emp_name', ascending=True))\n",
    "print(\"\\n\")\n",
    "\n",
    "# Sorting in Descending order\n",
    "print(\"Test Case 14: Sorting emp_name in Descending order \\n\")\n",
    "print(source.sort_values('emp_name', ascending=False))\n",
    "print(\"\\n\")\n",
    "\n",
    "# Sorting by Index\n",
    "print(\"Test Case 15: Sorting by Index in Descending order \\n\")\n",
    "print(source.sort_index(ascending=False))\n",
    "print(\"\\n\")\n",
    "\n",
    "# Sorting by Index\n",
    "# Reset the indexes to default\n",
    "# inplace = True will make changes to the orginal dataframe\n",
    "# drop =True will drop the initial indexes\n",
    "print(\"Test Case 16: Reset the indexes to default \\n\")\n",
    "source.reset_index(drop=True, inplace=True)\n",
    "print(source)\n",
    "print(\"\\n\")\n",
    "print(\"TEST COMPLETED____\\n\")"
   ]
  },
  {
   "cell_type": "code",
   "execution_count": 38,
   "id": "0c9c757a",
   "metadata": {},
   "outputs": [
    {
     "name": "stdout",
     "output_type": "stream",
     "text": [
      "   Fruits  Quantity  Price\n",
      "0   Mango        40     80\n",
      "1   Apple        20    100\n",
      "2  Banana        25     50\n",
      "3  Orange        10     70\n",
      "   FRUITS  QUANTITY  PRICE\n",
      "0   Mango        40     80\n",
      "1   Apple        20    100\n",
      "2  Banana        25     50\n",
      "3  Orange        10     70\n"
     ]
    }
   ],
   "source": [
    "# Renaming\n",
    "df = pd.read_csv(\"fruits.csv\",sep=\",\")\n",
    "print(df)\n",
    "df.rename(columns={'Fruits': 'FRUITS',\n",
    "                   'Quantity': 'QUANTITY',\n",
    "                   'Price': 'PRICE'},\n",
    "          inplace=True)\n",
    "print(df)\n"
   ]
  },
  {
   "cell_type": "code",
   "execution_count": 39,
   "id": "56131696",
   "metadata": {},
   "outputs": [
    {
     "name": "stdout",
     "output_type": "stream",
     "text": [
      "    variable   value\n",
      "0     FRUITS   Mango\n",
      "1     FRUITS   Apple\n",
      "2     FRUITS  Banana\n",
      "3     FRUITS  Orange\n",
      "4   QUANTITY      40\n",
      "5   QUANTITY      20\n",
      "6   QUANTITY      25\n",
      "7   QUANTITY      10\n",
      "8      PRICE      80\n",
      "9      PRICE     100\n",
      "10     PRICE      50\n",
      "11     PRICE      70\n"
     ]
    }
   ],
   "source": [
    "\n",
    "# Gather columns into rows.\n",
    "print(pd.melt(df))\n"
   ]
  },
  {
   "cell_type": "code",
   "execution_count": 40,
   "id": "10983fa5",
   "metadata": {},
   "outputs": [
    {
     "name": "stdout",
     "output_type": "stream",
     "text": [
      "        PRICE                     QUANTITY                    \n",
      "FRUITS  Apple Banana Mango Orange    Apple Banana Mango Orange\n",
      "0         NaN    NaN  80.0    NaN      NaN    NaN  40.0    NaN\n",
      "1       100.0    NaN   NaN    NaN     20.0    NaN   NaN    NaN\n",
      "2         NaN   50.0   NaN    NaN      NaN   25.0   NaN    NaN\n",
      "3         NaN    NaN   NaN   70.0      NaN    NaN   NaN   10.0\n"
     ]
    }
   ],
   "source": [
    "# Pivot table\n",
    "pivot = df.pivot(columns='FRUITS',values=['PRICE', 'QUANTITY'])\n",
    "print(pivot)"
   ]
  },
  {
   "cell_type": "code",
   "execution_count": 41,
   "id": "d81dd7d2",
   "metadata": {},
   "outputs": [
    {
     "name": "stdout",
     "output_type": "stream",
     "text": [
      "   FRUITS  PRICE\n",
      "0   Mango     80\n",
      "1   Apple    100\n",
      "2  Banana     50\n",
      "3  Orange     70\n",
      "   FRUITS  QUANTITY  PRICE\n",
      "0   Mango        40     80\n",
      "2  Banana        25     50\n",
      "   FRUITS  QUANTITY  PRICE\n",
      "0   Mango        40     80\n",
      "1   Apple        20    100\n",
      "2  Banana        25     50\n",
      "3  Orange        10     70\n",
      "   FRUITS  PRICE\n",
      "2  Banana     50\n",
      "   FRUITS  QUANTITY  PRICE\n",
      "2  Banana        25     50\n",
      "3  Orange        10     70\n",
      "   FRUITS  PRICE\n",
      "0   Mango     80\n",
      "1   Apple    100\n",
      "2  Banana     50\n",
      "3  Orange     70\n",
      "   FRUITS  PRICE\n",
      "0   Mango     80\n",
      "1   Apple    100\n",
      "2  Banana     50\n",
      "3  Orange     70\n",
      "   FRUITS  QUANTITY  PRICE\n",
      "3  Orange        10     70\n",
      "  FRUITS  QUANTITY  PRICE\n",
      "0  Mango        40     80\n",
      "1  Apple        20    100\n",
      "   FRUITS  QUANTITY  PRICE\n",
      "1   Apple        20    100\n",
      "3  Orange        10     70\n"
     ]
    }
   ],
   "source": [
    "\n",
    "# Drop the DISCOUNT Columns\n",
    "df1 = df.drop(columns=['QUANTITY'], axis=1)\n",
    "print(df1)\n",
    "\n",
    "\n",
    "# Drop 2nd and 4th rows\n",
    "df2 = df.drop([1, 3], axis=0)\n",
    "print(df2)\n",
    "\n",
    "\n",
    "# Subsets of rows or columns\n",
    "# Select all the columns between Fruits and Price\n",
    "print(df.loc[:, 'FRUITS':'PRICE'])\n",
    "\n",
    "# Select FRUITS name having PRICE <70\n",
    "print(df.loc[df['PRICE'] < 70,\n",
    "             ['FRUITS', 'PRICE']])\n",
    "\n",
    "# Select 2:5 rows\n",
    "print(df.iloc[2:5])\n",
    "\n",
    "# Select the columns having ) 0th & 2nd positions\n",
    "print(df.iloc[:, [0, 2]])\n",
    "\n",
    "# Select Single PRICE value at 2nd Postion\n",
    "df.at[1, 'PRICE']\n",
    "\n",
    "# Select the single values by their position\n",
    "df.iat[1, 2]\n",
    "\n",
    "# Filter by column name\n",
    "print(df.filter(items=['FRUITS', 'PRICE']))\n",
    "\n",
    "# Filter by row index\n",
    "print(df.filter(items=[3], axis=0))\n",
    "\n",
    "# Where\n",
    "df['PRICE'].where(df['PRICE'] > 50)\n",
    "\n",
    "\n",
    "# QUERY\n",
    "print(df.query('PRICE>70'))\n",
    "\n",
    "# Price >50 & QUANTITY <30\n",
    "print(df.query('PRICE>50 and QUANTITY<30'))"
   ]
  },
  {
   "cell_type": "code",
   "execution_count": 42,
   "id": "88160703",
   "metadata": {},
   "outputs": [],
   "source": [
    "\n",
    "# FRUITS name start with 'M'\n",
    "#print(df.query('FRUITS.str.startswith(\"Ma\")'))\n",
    "#print(df.query(\"FRUITS.str.startswith('M')\"))"
   ]
  },
  {
   "cell_type": "code",
   "execution_count": 43,
   "id": "d3b453ae",
   "metadata": {},
   "outputs": [
    {
     "name": "stdout",
     "output_type": "stream",
     "text": [
      "   Fruits  Price\n",
      "0   Mango     60\n",
      "1  Banana     40\n",
      "2  Grapes     75\n",
      "3   Apple    100\n",
      "4  Orange     65\n",
      "      Fruits  Price\n",
      "0      Apple    120\n",
      "1     Orange     60\n",
      "2     Papaya     30\n",
      "3  Pineapple     70\n",
      "4      Mango     50\n",
      "   Fruits  Price_x  Price_y\n",
      "0   Mango       60     50.0\n",
      "1  Banana       40      NaN\n",
      "2  Grapes       75      NaN\n",
      "3   Apple      100    120.0\n",
      "4  Orange       65     60.0\n",
      "      Fruits  Price_x  Price_y\n",
      "0      Apple    100.0      120\n",
      "1     Orange     65.0       60\n",
      "2     Papaya      NaN       30\n",
      "3  Pineapple      NaN       70\n",
      "4      Mango     60.0       50\n",
      "   Fruits  Price_x  Price_y\n",
      "0   Mango       60       50\n",
      "1   Apple      100      120\n",
      "2  Orange       65       60\n",
      "      Fruits  Price_x  Price_y\n",
      "0      Mango     60.0     50.0\n",
      "1     Banana     40.0      NaN\n",
      "2     Grapes     75.0      NaN\n",
      "3      Apple    100.0    120.0\n",
      "4     Orange     65.0     60.0\n",
      "5     Papaya      NaN     30.0\n",
      "6  Pineapple      NaN     70.0\n",
      "      FRUITS  QUANTITY  PRICE\n",
      "0      Mango        40     80\n",
      "1      Apple        20    100\n",
      "2     Banana        25     50\n",
      "3     Orange        10     70\n",
      "4     Grapes        23     60\n",
      "5  Pineapple        17     30\n",
      "      FRUITS  QUANTITY  PRICE  DISCOUNT\n",
      "0      Mango        40     80       5.0\n",
      "1      Apple        20    100       7.0\n",
      "2     Banana        25     50      10.0\n",
      "3     Orange        10     70       8.0\n",
      "4     Grapes        23     60       6.0\n",
      "5  Pineapple        17     30       NaN\n"
     ]
    }
   ],
   "source": [
    "#Combine Two data sets\n",
    "#Create 1st dataframe\n",
    "\n",
    "\n",
    "\n",
    "df1 = pd.read_csv(\"fruit1.csv\",sep=\",\")\n",
    "print(df1)\n",
    "\n",
    "#Create second dataframe\n",
    "df2 = pd.read_csv(\"fruit2.csv\",sep=\",\")\n",
    "print(df2)\n",
    "\n",
    "# Merge two dataframe\n",
    "# Left Join\n",
    "print(pd.merge(df1, df2,\n",
    "               how='left', on='Fruits'))\n",
    "\n",
    "# Right Join\n",
    "print(pd.merge(df1, df2,\n",
    "               how='right', on='Fruits'))\n",
    "\n",
    "# Inner Join\n",
    "print(pd.merge(df1, df2,\n",
    "               how='inner', on='Fruits'))\n",
    "\n",
    "# Outer Join\n",
    "print(pd.merge(df1, df2,\n",
    "               how='outer', on='Fruits'))\n",
    "\n",
    "#Concatenation\n",
    "# Row-wise Concatenation having the same column name\n",
    "\n",
    "\n",
    "\n",
    "data = {'FRUITS': ['Grapes', 'Pineapple'],\n",
    "        'QUANTITY': [23, 17],\n",
    "        'PRICE': [60, 30]\n",
    "        }\n",
    "\n",
    "# Create Pandas Dataframe with dictionary\n",
    "df1 = pd.DataFrame(data)\n",
    "\n",
    "# Concatenate df and df1\n",
    "df2 = pd.concat([df, df1], axis=0,\n",
    "                ignore_index=True)\n",
    "print(df2)\n",
    "\n",
    "# Column-wise Concatenation having the same column name\n",
    "data = {'DISCOUNT': [5, 7, 10, 8, 6]}\n",
    "\n",
    "# Create Pandas Dataframe with dictionary\n",
    "discount = pd.DataFrame(data)\n",
    "\n",
    "# Concatenate df2 and discount\n",
    "df = pd.concat([df2, discount], axis=1)\n",
    "print(df)\n"
   ]
  },
  {
   "cell_type": "code",
   "execution_count": 44,
   "id": "7b75d69f",
   "metadata": {},
   "outputs": [
    {
     "name": "stdout",
     "output_type": "stream",
     "text": [
      "       QUANTITY       PRICE   DISCOUNT\n",
      "count   6.00000    6.000000   5.000000\n",
      "mean   22.50000   65.000000   7.200000\n",
      "std    10.05485   24.289916   1.923538\n",
      "min    10.00000   30.000000   5.000000\n",
      "25%    17.75000   52.500000   6.000000\n",
      "50%    21.50000   65.000000   7.000000\n",
      "75%    24.50000   77.500000   8.000000\n",
      "max    40.00000  100.000000  10.000000\n",
      "       FRUITS\n",
      "count       6\n",
      "unique      6\n",
      "top     Mango\n",
      "freq        1\n",
      "390\n",
      "0     80\n",
      "1    180\n",
      "2    230\n",
      "3    300\n",
      "4    360\n",
      "5    390\n",
      "Name: PRICE, dtype: int64\n"
     ]
    },
    {
     "data": {
      "text/plain": [
       "0.00     30.0\n",
       "0.25     52.5\n",
       "0.75     77.5\n",
       "1.00    100.0\n",
       "Name: PRICE, dtype: float64"
      ]
     },
     "execution_count": 44,
     "metadata": {},
     "output_type": "execute_result"
    }
   ],
   "source": [
    "#Descriptive Analysis Pandas\n",
    "#Describe dataset\n",
    "# For numerical datatype\n",
    "print(df.describe())\n",
    "\n",
    "# For object datatype\n",
    "print(df.describe(include=['O']))\n",
    "\n",
    "# Check the unique values in the dataset\n",
    "df.FRUITS.unique()  \n",
    "\n",
    "\n",
    "# Count the total unique values\n",
    "df.FRUITS.value_counts()   \n",
    "\n",
    "#Sum values\n",
    "print(df['PRICE'].sum())\n",
    "\n",
    "#Cumulative Sum\n",
    "print(df['PRICE'].cumsum())\n",
    "\n",
    "\n",
    "# Minimumn PRICE\n",
    "df['PRICE'].min()\n",
    "\n",
    "# Maximum PRICE\n",
    "df['PRICE'].max()\n",
    "\n",
    "# Mean PRICE\n",
    "df['PRICE'].mean()\n",
    "\n",
    "# Median PRICE\n",
    "df['PRICE'].median()\n",
    "\n",
    "# Variance\n",
    "df['PRICE'].var()\n",
    "\n",
    "# Stardard Deviation\n",
    "df['PRICE'].std()\n",
    "\n",
    "# Quantile\n",
    "df['PRICE'].quantile([0, 0.25, 0.75, 1])"
   ]
  },
  {
   "cell_type": "code",
   "execution_count": 45,
   "id": "74b71fb4",
   "metadata": {},
   "outputs": [
    {
     "name": "stdout",
     "output_type": "stream",
     "text": [
      "          QUANTITY  PRICE  DISCOUNT\n",
      "QUANTITY     101.1   53.0     -10.4\n",
      "PRICE         53.0  590.0     -18.0\n",
      "DISCOUNT     -10.4  -18.0       3.7\n",
      "          QUANTITY     PRICE  DISCOUNT\n",
      "QUANTITY  1.000000  0.217007 -0.499210\n",
      "PRICE     0.217007  1.000000 -0.486486\n",
      "DISCOUNT -0.499210 -0.486486  1.000000\n",
      "   FRUITS  QUANTITY  PRICE  DISCOUNT\n",
      "0   False     False  False     False\n",
      "1   False     False  False     False\n",
      "2   False     False  False     False\n",
      "3   False     False  False     False\n",
      "4   False     False  False     False\n",
      "5   False     False  False      True\n",
      "FRUITS      0\n",
      "QUANTITY    0\n",
      "PRICE       0\n",
      "DISCOUNT    1\n",
      "dtype: int64\n",
      "      FRUITS  QUANTITY  PRICE  DISCOUNT\n",
      "0      Mango        40     80       5.0\n",
      "1      Apple        20    100       7.0\n",
      "2     Banana        25     50      10.0\n",
      "3     Orange        10     70       8.0\n",
      "4     Grapes        23     60       6.0\n",
      "5  Pineapple        17     30       7.2\n"
     ]
    }
   ],
   "source": [
    "\n",
    "\n",
    "# Apply any custom function\n",
    "def summation(col):\n",
    "    if col.dtypes != 'int64':\n",
    "        return col.count()\n",
    "    else:\n",
    "        return col.sum()\n",
    "\n",
    "\n",
    "df.apply(summation)\n",
    "\n",
    "# Covariance\n",
    "#print(df.cov(numeric_only=True))\n",
    "print(df.cov())\n",
    "\n",
    "\n",
    "# Correlation\n",
    "#print(df.corr(numeric_only=True))\n",
    "print(df.corr())\n",
    "\n",
    "# Missing Values\n",
    "# Check for null values using isnull() function.\n",
    "# Check for null values\n",
    "print(df.isnull())\n",
    "\n",
    "# Column-wise null values count\n",
    "# Total count of null values\n",
    "print(df.isnull().sum())\n",
    "\n",
    "#Fill the null values with mean()\n",
    "Mean = df.DISCOUNT.mean()\n",
    "\n",
    "# Fill the null values\n",
    "df['DISCOUNT'] = df['DISCOUNT'].fillna(Mean)\n",
    "print(df)\n",
    "\n",
    "# We can also drop null values rows using the below command\n",
    "\n",
    "# Drop the null values\n",
    "df.dropna(inplace=True)"
   ]
  },
  {
   "cell_type": "code",
   "execution_count": 46,
   "id": "760c0971",
   "metadata": {},
   "outputs": [
    {
     "name": "stdout",
     "output_type": "stream",
     "text": [
      "      FRUITS  QUANTITY  PRICE  DISCOUNT Origin\n",
      "0      Mango        40     80       5.0     BH\n",
      "1      Apple        20    100       7.0    J&K\n",
      "2     Banana        25     50      10.0     BH\n",
      "3     Orange        10     70       8.0     MP\n",
      "4     Grapes        23     60       6.0     WB\n",
      "5  Pineapple        17     30       7.2     WB\n",
      "      FRUITS  QUANTITY  PRICE  DISCOUNT Origin  Paid_Price\n",
      "0      Mango        40     80       5.0     BH     3040.00\n",
      "1      Apple        20    100       7.0    J&K     1860.00\n",
      "2     Banana        25     50      10.0     BH     1125.00\n",
      "3     Orange        10     70       8.0     MP      644.00\n",
      "4     Grapes        23     60       6.0     WB     1297.20\n",
      "5  Pineapple        17     30       7.2     WB      473.28\n"
     ]
    }
   ],
   "source": [
    "# Add a column to the Existing dataset\n",
    "\n",
    "# Values to add\n",
    "Origin = pd.Series(data=['BH', 'J&K','BH', 'MP','WB', 'WB'])\n",
    "\n",
    "# Add a column in dataset\n",
    "df['Origin'] = Origin\n",
    "print(df)\n",
    "# Add a column using the existing columns values\n",
    "df = df.assign(Paid_Price=lambda df:\n",
    "               (df.QUANTITY * df.PRICE)\\\n",
    "               -(df.QUANTITY * df.PRICE)\\\n",
    "               *df.DISCOUNT/100)\n",
    "print(df)"
   ]
  },
  {
   "cell_type": "code",
   "execution_count": 47,
   "id": "cd85efaa",
   "metadata": {},
   "outputs": [
    {
     "name": "stdout",
     "output_type": "stream",
     "text": [
      "       QUANTITY       PRICE        DISCOUNT      Paid_Price         \n",
      "            sum  mean   sum   mean      sum mean        sum     mean\n",
      "Origin                                                              \n",
      "BH           65  32.5   130   65.0     15.0  7.5    4165.00  2082.50\n",
      "J&K          20  20.0   100  100.0      7.0  7.0    1860.00  1860.00\n",
      "MP           10  10.0    70   70.0      8.0  8.0     644.00   644.00\n",
      "WB           40  20.0    90   45.0     13.2  6.6    1770.48   885.24\n"
     ]
    }
   ],
   "source": [
    "#Group By\n",
    "#Group the DataFrame by the ‘Origin’ column using groupby() methods\n",
    "\n",
    "# Group the DataFrame by 'Origin' column\n",
    "grouped = df.groupby(by='Origin')\n",
    "\n",
    "# Compute the sum as per Origin State\n",
    "# All the above function can be\n",
    "# applied here like median, std etc\n",
    "print(grouped.agg(['sum', 'mean']))"
   ]
  },
  {
   "cell_type": "code",
   "execution_count": 48,
   "id": "703c7a5a",
   "metadata": {},
   "outputs": [
    {
     "data": {
      "text/plain": [
       "<AxesSubplot:>"
      ]
     },
     "execution_count": 48,
     "metadata": {},
     "output_type": "execute_result"
    },
    {
     "data": {
      "image/png": "[encoded data removed]",
      "text/plain": [
       "<Figure size 432x288 with 1 Axes>"
      ]
     },
     "metadata": {
      "needs_background": "light"
     },
     "output_type": "display_data"
    }
   ],
   "source": [
    "#Outlier Detection using Box plot\n",
    "#we can use a boxplot for Detection of the outliers.\n",
    "\n",
    "\n",
    "\n",
    "\n",
    "# Box plot\n",
    "df.boxplot(column='PRICE', grid=False)"
   ]
  },
  {
   "cell_type": "code",
   "execution_count": 49,
   "id": "288ad61c",
   "metadata": {},
   "outputs": [
    {
     "data": {
      "text/plain": [
       "<AxesSubplot:xlabel='FRUITS'>"
      ]
     },
     "execution_count": 49,
     "metadata": {},
     "output_type": "execute_result"
    },
    {
     "data": {
      "image/png": "[encoded data removed]",
      "text/plain": [
       "<Figure size 432x288 with 1 Axes>"
      ]
     },
     "metadata": {
      "needs_background": "light"
     },
     "output_type": "display_data"
    }
   ],
   "source": [
    "# Bar Plot with Pandas\n",
    "# plot.bar() method is used to plot bar in pandas.\n",
    "\n",
    "df.plot.bar(x='FRUITS', y=['QUANTITY', 'PRICE', 'DISCOUNT'])\n",
    "\n",
    "#Bar Plot with Pandas"
   ]
  },
  {
   "cell_type": "code",
   "execution_count": 50,
   "id": "087d2eb7",
   "metadata": {},
   "outputs": [
    {
     "data": {
      "text/plain": [
       "<AxesSubplot:ylabel='Frequency'>"
      ]
     },
     "execution_count": 50,
     "metadata": {},
     "output_type": "execute_result"
    },
    {
     "data": {
      "image/png": "[encoded data removed]",
      "text/plain": [
       "<Figure size 432x288 with 1 Axes>"
      ]
     },
     "metadata": {
      "needs_background": "light"
     },
     "output_type": "display_data"
    }
   ],
   "source": [
    "\n",
    "# Histogram with pandas\n",
    "# plot.hist() methods is used to create a histogram.\n",
    "df['QUANTITY'].plot.hist(bins=3)\n",
    "\n",
    "#Histogram with pandas"
   ]
  },
  {
   "cell_type": "code",
   "execution_count": 51,
   "id": "c086b60d",
   "metadata": {},
   "outputs": [
    {
     "data": {
      "text/plain": [
       "<AxesSubplot:xlabel='PRICE', ylabel='DISCOUNT'>"
      ]
     },
     "execution_count": 51,
     "metadata": {},
     "output_type": "execute_result"
    },
    {
     "data": {
      "image/png": "[encoded data removed]",
      "text/plain": [
       "<Figure size 432x288 with 1 Axes>"
      ]
     },
     "metadata": {
      "needs_background": "light"
     },
     "output_type": "display_data"
    }
   ],
   "source": [
    "#Scatter Plot with Pandas\n",
    "#scatter() methods used to create a scatter plot in pandas.\n",
    "df.plot.scatter(x='PRICE', y='DISCOUNT')\n",
    "\n",
    "#Scatter Plot with Pandas\n"
   ]
  },
  {
   "cell_type": "code",
   "execution_count": 52,
   "id": "2d1a7bc0",
   "metadata": {},
   "outputs": [
    {
     "data": {
      "text/plain": [
       "'\\nCode snippet:\\n\\n\\n\\nsource.head(): Returns the first few rows of a DataFrame.\\nsource.tail(): Returns the last few rows of a DataFrame.\\nsource.info(): Provides information about the DataFrame, such as the number of rows and columns, the data types of the columns, and the missing values.\\nsource.describe(): Provides summary statistics for the numerical columns in a DataFrame.\\nsource.loc[row_index, column_name]: Returns the value at a specific row and column in a DataFrame.\\nsource.iloc[row_index, column_index]: Returns the value at a specific row and column index in a DataFrame.\\nsource.sort_values(by=’column_name’): Sorts the DataFrame by the values in a specific column.\\nsource.groupby(‘column_name’): Groups the DataFrame by the values in a specific column.\\n               \\n\\n               '"
      ]
     },
     "execution_count": 52,
     "metadata": {},
     "output_type": "execute_result"
    },
    {
     "data": {
      "image/png": "[encoded data removed]",
      "text/plain": [
       "<Figure size 432x288 with 1 Axes>"
      ]
     },
     "metadata": {},
     "output_type": "display_data"
    }
   ],
   "source": [
    "\n",
    "#Pie Chart with Pandas\n",
    "#plot.pie() methods used to create pie chart.\n",
    "grouped = df.groupby(['Origin'])\n",
    "grouped.sum().plot.pie(y='Paid_Price', subplots=True)\n",
    "\n"
   ]
  },
  {
   "cell_type": "code",
   "execution_count": null,
   "id": "8b8d2928",
   "metadata": {},
   "outputs": [],
   "source": [
    "\"\"\"\n",
    "Code snippet:\n",
    "\n",
    "\n",
    "\n",
    "source.head(): Returns the first few rows of a DataFrame.\n",
    "source.tail(): Returns the last few rows of a DataFrame.\n",
    "source.info(): Provides information about the DataFrame, such as the number of rows and columns, the data types of the columns, and the missing values.\n",
    "source.describe(): Provides summary statistics for the numerical columns in a DataFrame.\n",
    "source.loc[row_index, column_name]: Returns the value at a specific row and column in a DataFrame.\n",
    "source.iloc[row_index, column_index]: Returns the value at a specific row and column index in a DataFrame.\n",
    "source.sort_values(by=’column_name’): Sorts the DataFrame by the values in a specific column.\n",
    "source.groupby(‘column_name’): Groups the DataFrame by the values in a specific column.\n",
    "               \n",
    "\n",
    "               \"\"\""
   ]
  },
  {
   "cell_type": "code",
   "execution_count": null,
   "id": "a6a4583a",
   "metadata": {},
   "outputs": [],
   "source": []
  }
 ],
 "metadata": {
  "kernelspec": {
   "display_name": "Python 3 (ipykernel)",
   "language": "python",
   "name": "python3"
  },
  "language_info": {
   "codemirror_mode": {
    "name": "ipython",
    "version": 3
   },
   "file_extension": ".py",
   "mimetype": "text/x-python",
   "name": "python",
   "nbconvert_exporter": "python",
   "pygments_lexer": "ipython3",
   "version": "3.9.7"
  }
 },
 "nbformat": 4,
 "nbformat_minor": 5
}
