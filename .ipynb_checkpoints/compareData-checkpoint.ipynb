{
 "cells": [
  {
   "cell_type": "code",
   "execution_count": 68,
   "id": "591e34fd",
   "metadata": {},
   "outputs": [],
   "source": [
    "import pandas as pd\n",
    "import pytest\n",
    "from sqlalchemy import create_engine\n"
   ]
  },
  {
   "cell_type": "code",
   "execution_count": 69,
   "id": "8dabf378",
   "metadata": {},
   "outputs": [
    {
     "name": "stdout",
     "output_type": "stream",
     "text": [
      "   emp_no     emp_name dept_name  Salary\n",
      "0       1         Adam        IT  1000.0\n",
      "1      11         Adam        IT  1000.0\n",
      "2       2        Peter       NaN  4000.0\n",
      "3       3  Christopher   Finance  1000.0\n",
      "4       4  Christopher   Finance  1000.0\n",
      "5      14         Alan     Sales     NaN\n",
      "6       5       Mayank        HR  4000.0\n",
      "7       6       Rakesh     Sales  4000.0\n",
      "8       7       Mathew   Finance  4000.0\n"
     ]
    },
    {
     "data": {
      "text/plain": [
       "True"
      ]
     },
     "execution_count": 69,
     "metadata": {},
     "output_type": "execute_result"
    }
   ],
   "source": [
    "#def test_aggregated_summary_level():\n",
    "# extract data from source\n",
    "df_src = pd.read_csv(\"Employee1.csv\",sep=\",\")\n",
    "print(df_src)\n",
    "# transform source\n",
    "\n",
    "df_src['emp_no'].notnull().all()\n"
   ]
  },
  {
   "cell_type": "code",
   "execution_count": 70,
   "id": "09878514",
   "metadata": {},
   "outputs": [
    {
     "data": {
      "text/plain": [
       "False"
      ]
     },
     "execution_count": 70,
     "metadata": {},
     "output_type": "execute_result"
    }
   ],
   "source": [
    "df_src['Salary'].notnull().all()"
   ]
  },
  {
   "cell_type": "code",
   "execution_count": 71,
   "id": "6a8fdfb2",
   "metadata": {},
   "outputs": [
    {
     "data": {
      "text/plain": [
       "0    False\n",
       "1    False\n",
       "2    False\n",
       "3    False\n",
       "4    False\n",
       "5    False\n",
       "6    False\n",
       "7    False\n",
       "8    False\n",
       "dtype: bool"
      ]
     },
     "execution_count": 71,
     "metadata": {},
     "output_type": "execute_result"
    }
   ],
   "source": [
    "df_src.duplicated(subset=['emp_no'])"
   ]
  },
  {
   "cell_type": "code",
   "execution_count": 72,
   "id": "1aceeed8",
   "metadata": {},
   "outputs": [],
   "source": [
    "    df_src[df_src.duplicated(subset=['emp_no'])]\n",
    "    df_src_duplicate = df_src[df_src.duplicated(subset=['emp_no'])]"
   ]
  },
  {
   "cell_type": "code",
   "execution_count": 73,
   "id": "ce03d2cc",
   "metadata": {},
   "outputs": [],
   "source": [
    "assert df_src_duplicate.empty,\"duplicate exists\""
   ]
  },
  {
   "cell_type": "code",
   "execution_count": 74,
   "id": "2b3a3d80",
   "metadata": {},
   "outputs": [
    {
     "data": {
      "text/plain": [
       "0    False\n",
       "1    False\n",
       "2    False\n",
       "3    False\n",
       "4    False\n",
       "5    False\n",
       "6    False\n",
       "7    False\n",
       "8    False\n",
       "Name: Salary, dtype: bool"
      ]
     },
     "execution_count": 74,
     "metadata": {},
     "output_type": "execute_result"
    }
   ],
   "source": [
    "df_src['Salary'] == 1000"
   ]
  },
  {
   "cell_type": "code",
   "execution_count": 75,
   "id": "2ccc6ade",
   "metadata": {},
   "outputs": [
    {
     "data": {
      "text/html": [
       "<div>\n",
       "<style scoped>\n",
       "    .dataframe tbody tr th:only-of-type {\n",
       "        vertical-align: middle;\n",
       "    }\n",
       "\n",
       "    .dataframe tbody tr th {\n",
       "        vertical-align: top;\n",
       "    }\n",
       "\n",
       "    .dataframe thead th {\n",
       "        text-align: right;\n",
       "    }\n",
       "</style>\n",
       "<table border=\"1\" class=\"dataframe\">\n",
       "  <thead>\n",
       "    <tr style=\"text-align: right;\">\n",
       "      <th></th>\n",
       "      <th>emp_no</th>\n",
       "      <th>emp_name</th>\n",
       "      <th>dept_name</th>\n",
       "      <th>Salary</th>\n",
       "    </tr>\n",
       "  </thead>\n",
       "  <tbody>\n",
       "  </tbody>\n",
       "</table>\n",
       "</div>"
      ],
      "text/plain": [
       "Empty DataFrame\n",
       "Columns: [emp_no, emp_name, dept_name, Salary]\n",
       "Index: []"
      ]
     },
     "execution_count": 75,
     "metadata": {},
     "output_type": "execute_result"
    }
   ],
   "source": [
    "df_src[df_src['Salary'] == 1000]"
   ]
  },
  {
   "cell_type": "code",
   "execution_count": 76,
   "id": "7d1a145b",
   "metadata": {},
   "outputs": [],
   "source": [
    "assert df_src[df_src['Salary'] == 1000].empty , \"1000 salary exixts\""
   ]
  },
  {
   "cell_type": "code",
   "execution_count": 77,
   "id": "d5b43e31",
   "metadata": {},
   "outputs": [
    {
     "ename": "AssertionError",
     "evalue": "Dats mismatcu in both table",
     "output_type": "error",
     "traceback": [
      "\u001b[1;31m---------------------------------------------------------------------------\u001b[0m",
      "\u001b[1;31mAssertionError\u001b[0m                            Traceback (most recent call last)",
      "\u001b[1;32m~\\AppData\\Local\\Temp/ipykernel_16688/472532365.py\u001b[0m in \u001b[0;36m<module>\u001b[1;34m\u001b[0m\n\u001b[0;32m      3\u001b[0m \u001b[1;33m\u001b[0m\u001b[0m\n\u001b[0;32m      4\u001b[0m \u001b[1;31m#compare both data frame\u001b[0m\u001b[1;33m\u001b[0m\u001b[1;33m\u001b[0m\u001b[0m\n\u001b[1;32m----> 5\u001b[1;33m \u001b[1;32massert\u001b[0m \u001b[0mdf_tgt\u001b[0m\u001b[1;33m.\u001b[0m\u001b[0mequals\u001b[0m\u001b[1;33m(\u001b[0m\u001b[0mdf_src\u001b[0m\u001b[1;33m)\u001b[0m\u001b[1;33m,\u001b[0m\u001b[1;34m\"Dats mismatcu in both table\"\u001b[0m\u001b[1;33m\u001b[0m\u001b[1;33m\u001b[0m\u001b[0m\n\u001b[0m\u001b[0;32m      6\u001b[0m \u001b[1;33m\u001b[0m\u001b[0m\n",
      "\u001b[1;31mAssertionError\u001b[0m: Dats mismatcu in both table"
     ]
    }
   ],
   "source": [
    "# extract data from target\n",
    "df_tgt = pd.read_excel(\"Employee.xlsx\")\n",
    "\n",
    "#compare both data frame\n",
    "assert df_tgt.equals(df_src),\"Dats mismatch in both table\"\n",
    "    "
   ]
  },
  {
   "cell_type": "code",
   "execution_count": null,
   "id": "b8d7ae75",
   "metadata": {},
   "outputs": [],
   "source": []
  },
  {
   "cell_type": "code",
   "execution_count": null,
   "id": "0773c730",
   "metadata": {},
   "outputs": [],
   "source": []
  },
  {
   "cell_type": "code",
   "execution_count": null,
   "id": "1c5d2d5f",
   "metadata": {},
   "outputs": [],
   "source": []
  }
 ],
 "metadata": {
  "kernelspec": {
   "display_name": "Python 3 (ipykernel)",
   "language": "python",
   "name": "python3"
  },
  "language_info": {
   "codemirror_mode": {
    "name": "ipython",
    "version": 3
   },
   "file_extension": ".py",
   "mimetype": "text/x-python",
   "name": "python",
   "nbconvert_exporter": "python",
   "pygments_lexer": "ipython3",
   "version": "3.9.7"
  }
 },
 "nbformat": 4,
 "nbformat_minor": 5
}
