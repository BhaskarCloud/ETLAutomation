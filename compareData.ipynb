{
 "cells": [
  {
   "cell_type": "code",
   "execution_count": 78,
   "id": "c35b691d",
   "metadata": {},
   "outputs": [],
   "source": [
    "import pandas as pd\n",
    "import pytest\n",
    "from sqlalchemy import create_engine\n"
   ]
  },
  {
   "cell_type": "code",
   "execution_count": 87,
   "id": "125485b7",
   "metadata": {},
   "outputs": [
    {
     "name": "stdout",
     "output_type": "stream",
     "text": [
      "     SYMBOL \\n    OPEN \\n    HIGH \\n     LOW \\n PREV. CLOSE \\n     LTP \\n  \\\n",
      "0     NIFTY 50  22,963.65  22,992.50  22,801.50      22,959.50  22,945.30   \n",
      "1         NTPC     301.15     312.40     297.50         302.35     312.00   \n",
      "2        TECHM   1,668.00   1,708.95   1,664.05       1,664.95   1,701.00   \n",
      "3        WIPRO     305.35     312.75     305.35         305.35     311.50   \n",
      "4         ONGC     232.20     237.15     229.55         233.65     236.00   \n",
      "5   APOLLOHOSP   6,320.00   6,390.00   6,320.00       6,300.20   6,358.00   \n",
      "6    POWERGRID     263.85     267.90     260.20         263.20     265.55   \n",
      "7      HCLTECH   1,706.00   1,728.50   1,701.25       1,709.90   1,725.00   \n",
      "8    KOTAKBANK   1,942.05   1,966.00   1,939.15       1,945.30   1,962.25   \n",
      "9        CIPLA   1,474.65   1,483.85   1,466.10       1,474.65   1,482.00   \n",
      "10    HDFCBANK   1,713.05   1,731.55   1,706.15       1,717.35   1,723.00   \n",
      "11        INFY   1,842.30   1,861.65   1,837.60       1,842.30   1,848.00   \n",
      "12  BAJFINANCE   8,430.00   8,480.00   8,360.70       8,426.60   8,450.00   \n",
      "13  TATACONSUM   1,019.10   1,027.95   1,018.55       1,023.25   1,025.45   \n",
      "14    JSWSTEEL     975.00     981.20     962.80         973.55     975.60   \n",
      "15  SHRIRAMFIN     550.95     554.45     539.10         550.35     551.50   \n",
      "16    AXISBANK     992.95     997.35     986.55         992.95     994.90   \n",
      "17      MARUTI  12,764.95  12,884.95  12,735.15      12,762.90  12,778.00   \n",
      "18  ADANIPORTS   1,082.90   1,087.90   1,061.95       1,082.90   1,083.50   \n",
      "19   COALINDIA     360.25     362.35     353.80         360.10     360.00   \n",
      "20        BPCL     252.25     253.55     246.85         252.30     252.20   \n",
      "21   NESTLEIND   2,216.50   2,229.50   2,199.95       2,216.50   2,215.55   \n",
      "22          LT   3,227.00   3,241.00   3,183.00       3,221.85   3,220.00   \n",
      "23    RELIANCE   1,224.85   1,229.90   1,216.10       1,224.90   1,223.95   \n",
      "24     SBILIFE   1,476.25   1,481.00   1,454.40       1,476.20   1,475.00   \n",
      "25     DRREDDY   1,198.95   1,204.95   1,182.00       1,198.95   1,197.95   \n",
      "26   TATASTEEL     134.29     134.90     131.75         134.29     134.16   \n",
      "27  BAJAJFINSV   1,892.00   1,913.80   1,880.80       1,894.85   1,889.20   \n",
      "28        SBIN     727.70     728.25     717.35         727.70     725.50   \n",
      "29    HINDALCO     609.00     613.70     601.70         610.85     609.00   \n",
      "30  BHARTIARTL   1,692.00   1,695.95   1,655.80       1,675.55   1,669.50   \n",
      "31   EICHERMOT   4,769.00   4,772.50   4,684.45       4,745.20   4,726.00   \n",
      "32       TITAN   3,234.80   3,244.00   3,192.30       3,233.20   3,219.00   \n",
      "33    ADANIENT   2,240.00   2,240.00   2,166.05       2,223.70   2,213.05   \n",
      "34  TATAMOTORS     686.60     687.95     672.15         686.60     682.50   \n",
      "35   ICICIBANK   1,252.90   1,257.60   1,237.05       1,251.15   1,242.55   \n",
      "36    HDFCLIFE     624.00     626.00     611.35         623.25     618.70   \n",
      "37      GRASIM   2,480.00   2,482.95   2,412.80       2,463.85   2,445.05   \n",
      "38         TCS   3,898.40   3,924.40   3,864.50       3,904.50   3,873.00   \n",
      "39  ASIANPAINT   2,248.00   2,251.95   2,218.75       2,250.85   2,232.65   \n",
      "40  HEROMOTOCO   3,880.00   3,891.90   3,810.00       3,876.45   3,845.00   \n",
      "41   SUNPHARMA   1,714.20   1,729.75   1,698.40       1,714.20   1,699.95   \n",
      "42         ITC     408.00     410.85     404.00         408.60     404.90   \n",
      "43  BAJAJ-AUTO   8,510.10   8,550.00   8,390.45       8,537.15   8,445.80   \n",
      "44  HINDUNILVR   2,329.40   2,338.55   2,288.00       2,329.40   2,297.50   \n",
      "45   BRITANNIA   4,963.70   4,967.05   4,859.40       4,963.70   4,880.00   \n",
      "46         M&M   2,844.00   2,845.00   2,755.90       2,831.95   2,780.95   \n",
      "47  ULTRACEMCO  11,450.00  11,460.60  11,251.00      11,490.10  11,283.05   \n",
      "48         BEL     249.00     249.75     240.55         248.50     243.80   \n",
      "49       TRENT   5,100.00   5,119.45   4,928.25       5,096.45   4,986.00   \n",
      "50  INDUSINDBK   1,045.00   1,051.50   1,021.35       1,048.25   1,022.10   \n",
      "\n",
      "   INDICATIVE CLOSE \\n  CHNG \\n  %CHNG \\n VOLUME \\n(shares)  \\\n",
      "0                    -   -14.20     -0.06      21,06,16,641   \n",
      "1                    -     9.65      3.19       1,57,93,327   \n",
      "2                    -    36.05      2.17         26,54,132   \n",
      "3                    -     6.15      2.01       1,03,68,789   \n",
      "4                    -     2.35      1.01         61,70,974   \n",
      "5                    -    57.80      0.92          2,20,118   \n",
      "6                    -     2.35      0.89       1,04,83,635   \n",
      "7                    -    15.10      0.88         15,11,900   \n",
      "8                    -    16.95      0.87         43,44,125   \n",
      "9                    -     7.35      0.50          9,67,394   \n",
      "10                   -     5.65      0.33         81,75,455   \n",
      "11                   -     5.70      0.31         43,65,260   \n",
      "12                   -    23.40      0.28          8,68,977   \n",
      "13                   -     2.20      0.22          7,89,808   \n",
      "14                   -     2.05      0.21         18,00,070   \n",
      "15                   -     1.15      0.21         29,88,732   \n",
      "16                   -     1.95      0.20         30,90,004   \n",
      "17                   -    15.10      0.12          2,67,936   \n",
      "18                   -     0.60      0.06         17,15,308   \n",
      "19                   -    -0.10     -0.03         38,43,725   \n",
      "20                   -    -0.10     -0.04         55,34,272   \n",
      "21                   -    -0.95     -0.04          4,53,059   \n",
      "22                   -    -1.85     -0.06         24,28,215   \n",
      "23                   -    -0.95     -0.08         66,73,250   \n",
      "24                   -    -1.20     -0.08          6,79,042   \n",
      "25                   -    -1.00     -0.08         17,13,792   \n",
      "26                   -    -0.13     -0.10       2,39,57,576   \n",
      "27                   -    -5.65     -0.30         21,16,513   \n",
      "28                   -    -2.20     -0.30         85,62,003   \n",
      "29                   -    -1.85     -0.30         29,56,837   \n",
      "30                   -    -6.05     -0.36         75,29,598   \n",
      "31                   -   -19.20     -0.40          2,54,026   \n",
      "32                   -   -14.20     -0.44          5,92,636   \n",
      "33                   -   -10.65     -0.48         11,38,090   \n",
      "34                   -    -4.10     -0.60         78,10,143   \n",
      "35                   -    -8.60     -0.69         81,35,042   \n",
      "36                   -    -4.55     -0.73         18,87,686   \n",
      "37                   -   -18.80     -0.76          5,96,040   \n",
      "38                   -   -31.50     -0.81         21,49,879   \n",
      "39                   -   -18.20     -0.81          7,35,853   \n",
      "40                   -   -31.45     -0.81          4,82,022   \n",
      "41                   -   -14.25     -0.83         21,63,972   \n",
      "42                   -    -3.70     -0.91       1,29,98,403   \n",
      "43                   -   -91.35     -1.07          2,06,278   \n",
      "44                   -   -31.90     -1.37         10,35,705   \n",
      "45                   -   -83.70     -1.69          3,14,196   \n",
      "46                   -   -51.00     -1.80         23,01,836   \n",
      "47                   -  -207.05     -1.80          2,68,795   \n",
      "48                   -    -4.70     -1.89       2,11,80,375   \n",
      "49                   -  -110.45     -2.17          7,21,122   \n",
      "50                   -   -26.15     -2.49         26,20,716   \n",
      "\n",
      "   VALUE \\n (₹ Crores)   52W H \\n   52W L \\n  30 D   %CHNG \\n  \\\n",
      "0            19,431.22  26,277.35  21,281.45            -1.05   \n",
      "1               484.32     448.45     292.80            -7.30   \n",
      "2               448.73   1,807.70   1,162.95             0.28   \n",
      "3               320.60     324.60     208.50             8.30   \n",
      "4               144.51     345.00     223.00           -12.35   \n",
      "5               140.12   7,545.35   5,693.20            -7.73   \n",
      "6               277.31     366.25     252.20           -13.02   \n",
      "7               259.93   2,012.20   1,235.00            -4.42   \n",
      "8               848.95   1,992.80   1,543.85            10.62   \n",
      "9               142.75   1,702.05   1,317.25             2.24   \n",
      "10            1,407.06   1,880.00   1,397.30             4.92   \n",
      "11              807.05   2,006.45   1,358.35             1.48   \n",
      "12              733.06   8,662.80   6,187.80            17.33   \n",
      "13               80.88   1,256.44     882.90             7.21   \n",
      "14              175.25   1,063.00     761.75             7.15   \n",
      "15              163.80     730.45     438.60             4.53   \n",
      "16              306.78   1,339.65     933.50             0.19   \n",
      "17              342.65  13,680.00  10,725.00             5.16   \n",
      "18              184.52   1,621.40     995.65            -6.93   \n",
      "19              137.57     543.55     349.25            -7.11   \n",
      "20              138.78     376.00     242.20            -7.79   \n",
      "21              100.22   2,778.00   2,131.25            -0.03   \n",
      "22              780.40   3,963.50   3,175.05            -9.72   \n",
      "23              816.77   1,608.80   1,193.35            -5.95   \n",
      "24               99.97   1,936.00   1,307.70            -4.17   \n",
      "25              204.72   1,421.49   1,120.00            -8.44   \n",
      "26              319.35     184.60     122.62             3.08   \n",
      "27              402.30   2,029.90   1,419.05            12.75   \n",
      "28              619.67     912.00     711.55            -4.76   \n",
      "29              179.84     772.65     499.00            -1.00   \n",
      "30            1,256.62   1,779.00   1,097.65             2.95   \n",
      "31              119.75   5,575.50   3,672.00            -5.33   \n",
      "32              190.59   3,867.00   3,055.65            -3.70   \n",
      "33              250.30   3,743.90   2,025.00            -7.34   \n",
      "34              530.17   1,179.00     667.05           -11.95   \n",
      "35            1,010.67   1,362.35   1,023.35             2.10   \n",
      "36              116.29     761.20     511.40            -2.95   \n",
      "37              145.47   2,877.75   2,102.20             3.70   \n",
      "38              836.66   4,592.25   3,591.50            -5.33   \n",
      "39              164.24   3,394.90   2,185.70            -0.45   \n",
      "40              184.98   6,246.25   3,757.65            -5.41   \n",
      "41              369.52   1,960.35   1,377.20            -4.05   \n",
      "42              528.41     528.50     399.35            -7.18   \n",
      "43              174.12  12,774.00   7,890.00            -0.52   \n",
      "44              238.72   3,035.00   2,172.05            -1.05   \n",
      "45              154.38   6,469.90   4,641.00             2.25   \n",
      "46              642.14   3,270.95   1,788.80            -2.93   \n",
      "47              304.22  12,145.35   9,250.00             8.60   \n",
      "48              516.08     340.50     179.10           -11.93   \n",
      "49              359.77   8,345.00   3,750.25           -18.02   \n",
      "50              270.20   1,576.35     923.70             7.96   \n",
      "\n",
      "    365 D % CHNG \\n 16-Feb-2024  \n",
      "0                          4.17  \n",
      "1                        -10.48  \n",
      "2                         27.82  \n",
      "3                        -43.77  \n",
      "4                        -14.94  \n",
      "5                         -4.55  \n",
      "6                         -4.13  \n",
      "7                          2.55  \n",
      "8                         12.10  \n",
      "9                          2.36  \n",
      "10                        20.95  \n",
      "11                         8.27  \n",
      "12                        27.31  \n",
      "13                       -10.82  \n",
      "14                        18.73  \n",
      "15                       -77.53  \n",
      "16                        -7.09  \n",
      "17                        12.15  \n",
      "18                       -17.14  \n",
      "19                       -24.98  \n",
      "20                       -61.46  \n",
      "21                       -10.90  \n",
      "22                        -4.87  \n",
      "23                       -58.07  \n",
      "24                        -2.14  \n",
      "25                       -81.02  \n",
      "26                        -5.63  \n",
      "27                        20.24  \n",
      "28                        -3.58  \n",
      "29                        18.45  \n",
      "30                        49.60  \n",
      "31                        20.78  \n",
      "32                       -11.55  \n",
      "33                       -31.02  \n",
      "34                       -26.85  \n",
      "35                        22.27  \n",
      "36                         5.20  \n",
      "37                        17.01  \n",
      "38                        -5.42  \n",
      "39                       -25.17  \n",
      "40                       -20.80  \n",
      "41                        13.53  \n",
      "42                         0.99  \n",
      "43                         2.55  \n",
      "44                        -1.93  \n",
      "45                         1.02  \n",
      "46                        54.28  \n",
      "47                        15.87  \n",
      "48                        31.97  \n",
      "49                        26.63  \n",
      "50                       -29.82  \n"
     ]
    },
    {
     "ename": "KeyError",
     "evalue": "'emp_no'",
     "output_type": "error",
     "traceback": [
      "\u001b[1;31m---------------------------------------------------------------------------\u001b[0m",
      "\u001b[1;31mKeyError\u001b[0m                                  Traceback (most recent call last)",
      "\u001b[1;32m~\\anaconda3\\lib\\site-packages\\pandas\\core\\indexes\\base.py\u001b[0m in \u001b[0;36mget_loc\u001b[1;34m(self, key, method, tolerance)\u001b[0m\n\u001b[0;32m   3360\u001b[0m             \u001b[1;32mtry\u001b[0m\u001b[1;33m:\u001b[0m\u001b[1;33m\u001b[0m\u001b[1;33m\u001b[0m\u001b[0m\n\u001b[1;32m-> 3361\u001b[1;33m                 \u001b[1;32mreturn\u001b[0m \u001b[0mself\u001b[0m\u001b[1;33m.\u001b[0m\u001b[0m_engine\u001b[0m\u001b[1;33m.\u001b[0m\u001b[0mget_loc\u001b[0m\u001b[1;33m(\u001b[0m\u001b[0mcasted_key\u001b[0m\u001b[1;33m)\u001b[0m\u001b[1;33m\u001b[0m\u001b[1;33m\u001b[0m\u001b[0m\n\u001b[0m\u001b[0;32m   3362\u001b[0m             \u001b[1;32mexcept\u001b[0m \u001b[0mKeyError\u001b[0m \u001b[1;32mas\u001b[0m \u001b[0merr\u001b[0m\u001b[1;33m:\u001b[0m\u001b[1;33m\u001b[0m\u001b[1;33m\u001b[0m\u001b[0m\n",
      "\u001b[1;32m~\\anaconda3\\lib\\site-packages\\pandas\\_libs\\index.pyx\u001b[0m in \u001b[0;36mpandas._libs.index.IndexEngine.get_loc\u001b[1;34m()\u001b[0m\n",
      "\u001b[1;32m~\\anaconda3\\lib\\site-packages\\pandas\\_libs\\index.pyx\u001b[0m in \u001b[0;36mpandas._libs.index.IndexEngine.get_loc\u001b[1;34m()\u001b[0m\n",
      "\u001b[1;32mpandas\\_libs\\hashtable_class_helper.pxi\u001b[0m in \u001b[0;36mpandas._libs.hashtable.PyObjectHashTable.get_item\u001b[1;34m()\u001b[0m\n",
      "\u001b[1;32mpandas\\_libs\\hashtable_class_helper.pxi\u001b[0m in \u001b[0;36mpandas._libs.hashtable.PyObjectHashTable.get_item\u001b[1;34m()\u001b[0m\n",
      "\u001b[1;31mKeyError\u001b[0m: 'emp_no'",
      "\nThe above exception was the direct cause of the following exception:\n",
      "\u001b[1;31mKeyError\u001b[0m                                  Traceback (most recent call last)",
      "\u001b[1;32m~\\AppData\\Local\\Temp/ipykernel_16688/1242436576.py\u001b[0m in \u001b[0;36m<module>\u001b[1;34m\u001b[0m\n\u001b[0;32m      5\u001b[0m \u001b[1;31m# transform source\u001b[0m\u001b[1;33m\u001b[0m\u001b[1;33m\u001b[0m\u001b[0m\n\u001b[0;32m      6\u001b[0m \u001b[1;33m\u001b[0m\u001b[0m\n\u001b[1;32m----> 7\u001b[1;33m \u001b[0mdf_src\u001b[0m\u001b[1;33m[\u001b[0m\u001b[1;34m'emp_no'\u001b[0m\u001b[1;33m]\u001b[0m\u001b[1;33m.\u001b[0m\u001b[0mnotnull\u001b[0m\u001b[1;33m(\u001b[0m\u001b[1;33m)\u001b[0m\u001b[1;33m.\u001b[0m\u001b[0mall\u001b[0m\u001b[1;33m(\u001b[0m\u001b[1;33m)\u001b[0m\u001b[1;33m\u001b[0m\u001b[1;33m\u001b[0m\u001b[0m\n\u001b[0m",
      "\u001b[1;32m~\\anaconda3\\lib\\site-packages\\pandas\\core\\frame.py\u001b[0m in \u001b[0;36m__getitem__\u001b[1;34m(self, key)\u001b[0m\n\u001b[0;32m   3456\u001b[0m             \u001b[1;32mif\u001b[0m \u001b[0mself\u001b[0m\u001b[1;33m.\u001b[0m\u001b[0mcolumns\u001b[0m\u001b[1;33m.\u001b[0m\u001b[0mnlevels\u001b[0m \u001b[1;33m>\u001b[0m \u001b[1;36m1\u001b[0m\u001b[1;33m:\u001b[0m\u001b[1;33m\u001b[0m\u001b[1;33m\u001b[0m\u001b[0m\n\u001b[0;32m   3457\u001b[0m                 \u001b[1;32mreturn\u001b[0m \u001b[0mself\u001b[0m\u001b[1;33m.\u001b[0m\u001b[0m_getitem_multilevel\u001b[0m\u001b[1;33m(\u001b[0m\u001b[0mkey\u001b[0m\u001b[1;33m)\u001b[0m\u001b[1;33m\u001b[0m\u001b[1;33m\u001b[0m\u001b[0m\n\u001b[1;32m-> 3458\u001b[1;33m             \u001b[0mindexer\u001b[0m \u001b[1;33m=\u001b[0m \u001b[0mself\u001b[0m\u001b[1;33m.\u001b[0m\u001b[0mcolumns\u001b[0m\u001b[1;33m.\u001b[0m\u001b[0mget_loc\u001b[0m\u001b[1;33m(\u001b[0m\u001b[0mkey\u001b[0m\u001b[1;33m)\u001b[0m\u001b[1;33m\u001b[0m\u001b[1;33m\u001b[0m\u001b[0m\n\u001b[0m\u001b[0;32m   3459\u001b[0m             \u001b[1;32mif\u001b[0m \u001b[0mis_integer\u001b[0m\u001b[1;33m(\u001b[0m\u001b[0mindexer\u001b[0m\u001b[1;33m)\u001b[0m\u001b[1;33m:\u001b[0m\u001b[1;33m\u001b[0m\u001b[1;33m\u001b[0m\u001b[0m\n\u001b[0;32m   3460\u001b[0m                 \u001b[0mindexer\u001b[0m \u001b[1;33m=\u001b[0m \u001b[1;33m[\u001b[0m\u001b[0mindexer\u001b[0m\u001b[1;33m]\u001b[0m\u001b[1;33m\u001b[0m\u001b[1;33m\u001b[0m\u001b[0m\n",
      "\u001b[1;32m~\\anaconda3\\lib\\site-packages\\pandas\\core\\indexes\\base.py\u001b[0m in \u001b[0;36mget_loc\u001b[1;34m(self, key, method, tolerance)\u001b[0m\n\u001b[0;32m   3361\u001b[0m                 \u001b[1;32mreturn\u001b[0m \u001b[0mself\u001b[0m\u001b[1;33m.\u001b[0m\u001b[0m_engine\u001b[0m\u001b[1;33m.\u001b[0m\u001b[0mget_loc\u001b[0m\u001b[1;33m(\u001b[0m\u001b[0mcasted_key\u001b[0m\u001b[1;33m)\u001b[0m\u001b[1;33m\u001b[0m\u001b[1;33m\u001b[0m\u001b[0m\n\u001b[0;32m   3362\u001b[0m             \u001b[1;32mexcept\u001b[0m \u001b[0mKeyError\u001b[0m \u001b[1;32mas\u001b[0m \u001b[0merr\u001b[0m\u001b[1;33m:\u001b[0m\u001b[1;33m\u001b[0m\u001b[1;33m\u001b[0m\u001b[0m\n\u001b[1;32m-> 3363\u001b[1;33m                 \u001b[1;32mraise\u001b[0m \u001b[0mKeyError\u001b[0m\u001b[1;33m(\u001b[0m\u001b[0mkey\u001b[0m\u001b[1;33m)\u001b[0m \u001b[1;32mfrom\u001b[0m \u001b[0merr\u001b[0m\u001b[1;33m\u001b[0m\u001b[1;33m\u001b[0m\u001b[0m\n\u001b[0m\u001b[0;32m   3364\u001b[0m \u001b[1;33m\u001b[0m\u001b[0m\n\u001b[0;32m   3365\u001b[0m         \u001b[1;32mif\u001b[0m \u001b[0mis_scalar\u001b[0m\u001b[1;33m(\u001b[0m\u001b[0mkey\u001b[0m\u001b[1;33m)\u001b[0m \u001b[1;32mand\u001b[0m \u001b[0misna\u001b[0m\u001b[1;33m(\u001b[0m\u001b[0mkey\u001b[0m\u001b[1;33m)\u001b[0m \u001b[1;32mand\u001b[0m \u001b[1;32mnot\u001b[0m \u001b[0mself\u001b[0m\u001b[1;33m.\u001b[0m\u001b[0mhasnans\u001b[0m\u001b[1;33m:\u001b[0m\u001b[1;33m\u001b[0m\u001b[1;33m\u001b[0m\u001b[0m\n",
      "\u001b[1;31mKeyError\u001b[0m: 'emp_no'"
     ]
    }
   ],
   "source": [
    "#def test_aggregated_summary_level():\n",
    "# extract data from source\n",
    "df_src = pd.read_csv(\"data.csv\",sep=\",\")\n",
    "print(df_src)\n",
    "# transform source\n",
    "\n",
    "df_src['emp_no'].notnull().all()\n"
   ]
  },
  {
   "cell_type": "code",
   "execution_count": 80,
   "id": "33f9c37a",
   "metadata": {},
   "outputs": [
    {
     "data": {
      "text/plain": [
       "False"
      ]
     },
     "execution_count": 80,
     "metadata": {},
     "output_type": "execute_result"
    }
   ],
   "source": [
    "df_src['Salary'].notnull().all()"
   ]
  },
  {
   "cell_type": "code",
   "execution_count": 81,
   "id": "f0fce9b3",
   "metadata": {},
   "outputs": [
    {
     "data": {
      "text/plain": [
       "0    False\n",
       "1    False\n",
       "2    False\n",
       "3    False\n",
       "4    False\n",
       "5    False\n",
       "6    False\n",
       "7    False\n",
       "8    False\n",
       "dtype: bool"
      ]
     },
     "execution_count": 81,
     "metadata": {},
     "output_type": "execute_result"
    }
   ],
   "source": [
    "df_src.duplicated(subset=['emp_no'])"
   ]
  },
  {
   "cell_type": "code",
   "execution_count": 82,
   "id": "c54155ba",
   "metadata": {},
   "outputs": [],
   "source": [
    "    df_src[df_src.duplicated(subset=['emp_no'])]\n",
    "    df_src_duplicate = df_src[df_src.duplicated(subset=['emp_no'])]"
   ]
  },
  {
   "cell_type": "code",
   "execution_count": 83,
   "id": "097de5f7",
   "metadata": {},
   "outputs": [],
   "source": [
    "assert df_src_duplicate.empty,\"duplicate exists\""
   ]
  },
  {
   "cell_type": "code",
   "execution_count": 84,
   "id": "c9a81400",
   "metadata": {},
   "outputs": [
    {
     "data": {
      "text/plain": [
       "0     True\n",
       "1     True\n",
       "2    False\n",
       "3     True\n",
       "4     True\n",
       "5    False\n",
       "6    False\n",
       "7    False\n",
       "8    False\n",
       "Name: Salary, dtype: bool"
      ]
     },
     "execution_count": 84,
     "metadata": {},
     "output_type": "execute_result"
    }
   ],
   "source": [
    "df_src['Salary'] == 1000"
   ]
  },
  {
   "cell_type": "code",
   "execution_count": 85,
   "id": "29095aef",
   "metadata": {},
   "outputs": [
    {
     "data": {
      "text/html": [
       "<div>\n",
       "<style scoped>\n",
       "    .dataframe tbody tr th:only-of-type {\n",
       "        vertical-align: middle;\n",
       "    }\n",
       "\n",
       "    .dataframe tbody tr th {\n",
       "        vertical-align: top;\n",
       "    }\n",
       "\n",
       "    .dataframe thead th {\n",
       "        text-align: right;\n",
       "    }\n",
       "</style>\n",
       "<table border=\"1\" class=\"dataframe\">\n",
       "  <thead>\n",
       "    <tr style=\"text-align: right;\">\n",
       "      <th></th>\n",
       "      <th>emp_no</th>\n",
       "      <th>emp_name</th>\n",
       "      <th>dept_name</th>\n",
       "      <th>Salary</th>\n",
       "    </tr>\n",
       "  </thead>\n",
       "  <tbody>\n",
       "    <tr>\n",
       "      <th>0</th>\n",
       "      <td>1</td>\n",
       "      <td>Adam</td>\n",
       "      <td>IT</td>\n",
       "      <td>1000.0</td>\n",
       "    </tr>\n",
       "    <tr>\n",
       "      <th>1</th>\n",
       "      <td>11</td>\n",
       "      <td>Adam</td>\n",
       "      <td>IT</td>\n",
       "      <td>1000.0</td>\n",
       "    </tr>\n",
       "    <tr>\n",
       "      <th>3</th>\n",
       "      <td>3</td>\n",
       "      <td>Christopher</td>\n",
       "      <td>Finance</td>\n",
       "      <td>1000.0</td>\n",
       "    </tr>\n",
       "    <tr>\n",
       "      <th>4</th>\n",
       "      <td>4</td>\n",
       "      <td>Christopher</td>\n",
       "      <td>Finance</td>\n",
       "      <td>1000.0</td>\n",
       "    </tr>\n",
       "  </tbody>\n",
       "</table>\n",
       "</div>"
      ],
      "text/plain": [
       "   emp_no     emp_name dept_name  Salary\n",
       "0       1         Adam        IT  1000.0\n",
       "1      11         Adam        IT  1000.0\n",
       "3       3  Christopher   Finance  1000.0\n",
       "4       4  Christopher   Finance  1000.0"
      ]
     },
     "execution_count": 85,
     "metadata": {},
     "output_type": "execute_result"
    }
   ],
   "source": [
    "df_src[df_src['Salary'] == 1000]"
   ]
  },
  {
   "cell_type": "code",
   "execution_count": 86,
   "id": "c16e022d",
   "metadata": {},
   "outputs": [
    {
     "ename": "AssertionError",
     "evalue": "1000 salary exixts",
     "output_type": "error",
     "traceback": [
      "\u001b[1;31m---------------------------------------------------------------------------\u001b[0m",
      "\u001b[1;31mAssertionError\u001b[0m                            Traceback (most recent call last)",
      "\u001b[1;32m~\\AppData\\Local\\Temp/ipykernel_16688/2959135471.py\u001b[0m in \u001b[0;36m<module>\u001b[1;34m\u001b[0m\n\u001b[1;32m----> 1\u001b[1;33m \u001b[1;32massert\u001b[0m \u001b[0mdf_src\u001b[0m\u001b[1;33m[\u001b[0m\u001b[0mdf_src\u001b[0m\u001b[1;33m[\u001b[0m\u001b[1;34m'Salary'\u001b[0m\u001b[1;33m]\u001b[0m \u001b[1;33m==\u001b[0m \u001b[1;36m1000\u001b[0m\u001b[1;33m]\u001b[0m\u001b[1;33m.\u001b[0m\u001b[0mempty\u001b[0m \u001b[1;33m,\u001b[0m \u001b[1;34m\"1000 salary exixts\"\u001b[0m\u001b[1;33m\u001b[0m\u001b[1;33m\u001b[0m\u001b[0m\n\u001b[0m",
      "\u001b[1;31mAssertionError\u001b[0m: 1000 salary exixts"
     ]
    }
   ],
   "source": [
    "assert df_src[df_src['Salary'] == 1000].empty , \"1000 salary exixts\""
   ]
  },
  {
   "cell_type": "code",
   "execution_count": null,
   "id": "34bfbaf8",
   "metadata": {},
   "outputs": [],
   "source": [
    "# extract data from target\n",
    "df_tgt = pd.read_excel(\"Employee.xlsx\")\n",
    "\n",
    "#compare both data frame\n",
    "assert df_tgt.equals(df_src),\"Dats mismatch in both table\"\n",
    "    "
   ]
  },
  {
   "cell_type": "code",
   "execution_count": null,
   "id": "5630c35b",
   "metadata": {},
   "outputs": [],
   "source": []
  },
  {
   "cell_type": "code",
   "execution_count": null,
   "id": "275fe603",
   "metadata": {},
   "outputs": [],
   "source": []
  },
  {
   "cell_type": "code",
   "execution_count": null,
   "id": "9ed4a8ee",
   "metadata": {},
   "outputs": [],
   "source": []
  }
 ],
 "metadata": {
  "kernelspec": {
   "display_name": "Python 3 (ipykernel)",
   "language": "python",
   "name": "python3"
  },
  "language_info": {
   "codemirror_mode": {
    "name": "ipython",
    "version": 3
   },
   "file_extension": ".py",
   "mimetype": "text/x-python",
   "name": "python",
   "nbconvert_exporter": "python",
   "pygments_lexer": "ipython3",
   "version": "3.9.7"
  }
 },
 "nbformat": 4,
 "nbformat_minor": 5
}
